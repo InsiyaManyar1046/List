{
 "cells": [
  {
   "cell_type": "code",
   "execution_count": 4,
   "id": "d490df3b-199a-411b-a9e7-6f56c0911e99",
   "metadata": {},
   "outputs": [
    {
     "name": "stdin",
     "output_type": "stream",
     "text": [
      "enter numbers seperated by comma 1,2,3,4,5\n"
     ]
    },
    {
     "name": "stdout",
     "output_type": "stream",
     "text": [
      "[1, 2, 3, 4, 5]\n",
      "1\n",
      "3\n",
      "5\n"
     ]
    }
   ],
   "source": [
    "#1) give a list of numbers,find and print all the list element with an even index number.\n",
    "#(i.e. A[0],A[2],A[4],...)\n",
    "x=input(\"enter numbers seperated by comma\").split(\",\")\n",
    "a=[]\n",
    "for i in x:\n",
    "    a.append(int(i))\n",
    "print(a)\n",
    "for j in range(len(a)):\n",
    "    if(j%2==0):\n",
    "        print(a[j])"
   ]
  },
  {
   "cell_type": "code",
   "execution_count": 25,
   "id": "b3dcc9bc-c7b2-4848-b23d-e4d697025963",
   "metadata": {},
   "outputs": [
    {
     "name": "stdin",
     "output_type": "stream",
     "text": [
      "enter numbers seperated by comma 1,2,3,4,5,6,11,13,14,15,16\n"
     ]
    },
    {
     "name": "stdout",
     "output_type": "stream",
     "text": [
      "[1, 2, 3, 4, 5, 6, 11, 13, 14, 15, 16]\n",
      "2\n",
      "4\n",
      "6\n",
      "14\n",
      "16\n"
     ]
    }
   ],
   "source": [
    "#2)give a list of number ,fing and print all element that are an even number\n",
    "x=input(\"enter numbers seperated by comma\").split(\",\")\n",
    "a=[]\n",
    "for i in x:\n",
    "    a.append(int(i))\n",
    "print(a)\n",
    "for j in a:\n",
    "    if(j%2==0):\n",
    "        print(j)"
   ]
  },
  {
   "cell_type": "code",
   "execution_count": 30,
   "id": "4e3756a9-d350-4ce5-9d03-56460dcebf2b",
   "metadata": {},
   "outputs": [
    {
     "name": "stdin",
     "output_type": "stream",
     "text": [
      "enter numbers seperated by comma 1,5,4,8\n"
     ]
    },
    {
     "name": "stdout",
     "output_type": "stream",
     "text": [
      "[1, 5, 4, 8]\n",
      "5\n",
      "8\n"
     ]
    }
   ],
   "source": [
    "#3)give a list of number ,fing and print all element that are greatter than the previous elment\n",
    "x=input(\"enter numbers seperated by comma\").split(\",\")\n",
    "a=[]\n",
    "for i in x:\n",
    "    a.append(int(i))\n",
    "print(a)\n",
    "for j in range(len(a)):\n",
    "    if(a[j]> a[j-1]):\n",
    "        print(a[j])"
   ]
  },
  {
   "cell_type": "code",
   "execution_count": 35,
   "id": "5554bce2-c51b-4bab-8731-321d75944036",
   "metadata": {},
   "outputs": [
    {
     "name": "stdin",
     "output_type": "stream",
     "text": [
      "enter numbers seperated by comma 10,45,67,32,47,20,65,100\n"
     ]
    },
    {
     "name": "stdout",
     "output_type": "stream",
     "text": [
      "[10, 45, 67, 32, 47, 20, 65, 100]\n",
      "10\n",
      "45\n",
      "20\n",
      "65\n",
      "100\n"
     ]
    }
   ],
   "source": [
    "# 4) give a list of number,find and print all the adjacent element which have value divisible by 5 .if there is no such pair\n",
    "#leave the output blank\n",
    "x=input(\"enter numbers seperated by comma\").split(\",\")\n",
    "a=[]\n",
    "for i in x:\n",
    "    a.append(int(i))\n",
    "print(a)\n",
    "for j in a:\n",
    "    if j%5==0:\n",
    "        print(j)"
   ]
  },
  {
   "cell_type": "code",
   "execution_count": 2,
   "id": "35b8045e-bea3-43be-a0cf-6789d42b8f88",
   "metadata": {},
   "outputs": [
    {
     "name": "stdin",
     "output_type": "stream",
     "text": [
      "enter numbers seperated by comma 1,2,1,76,90,56\n"
     ]
    },
    {
     "name": "stdout",
     "output_type": "stream",
     "text": [
      "[1, 2, 1, 76, 90, 56]\n",
      "2\n",
      "90\n"
     ]
    }
   ],
   "source": [
    "# 5) give a list of number ,determine and print all element that are greater than both their neighbours.The first and last\n",
    "#item of thet should not be considered becauses they dont hae 2 neighbours\n",
    "x=input(\"enter numbers seperated by comma\").split(\",\")\n",
    "a=[]\n",
    "for i in x:\n",
    "    a.append(int(i))\n",
    "print(a)\n",
    "for j in range(1,len(a)):\n",
    "    if(a[j-1]<a[j]>a[j+1]):\n",
    "        print(a[j])"
   ]
  },
  {
   "cell_type": "code",
   "execution_count": 44,
   "id": "3fe08719-fc5a-4754-a0e7-5ed859f6bc94",
   "metadata": {},
   "outputs": [
    {
     "name": "stdin",
     "output_type": "stream",
     "text": [
      "enter value seperated by comma: 2,-965,6789,421,-1,4546,64\n"
     ]
    },
    {
     "name": "stdout",
     "output_type": "stream",
     "text": [
      "['2', '-965', '6789', '421', '-1', '4546', '64']\n",
      "[2, -965, 6789, 421, -1, 4546, 64]\n",
      "[-965, -1, 2, 64, 421, 4546, 6789]\n",
      "maximum value is: 6789 and index is:a[-1]\n"
     ]
    }
   ],
   "source": [
    "# 6) given a list of numbers,determine the element in the list with the largest value.Print the value of the largest element\n",
    "#aong with it's index number.If the heighest element is not unique,print the index of the first instance\n",
    "x=input(\"enter value seperated by comma:\").split(\",\")\n",
    "print(x)\n",
    "a=[]\n",
    "for i in x:\n",
    "    a.append(int(i))\n",
    "print(a)\n",
    "a.sort()\n",
    "print(a)\n",
    "print(\"maximum value is:\",a[-1], \"and index is:a[-1]\")"
   ]
  },
  {
   "cell_type": "code",
   "execution_count": 18,
   "id": "9952d1d0-9334-4131-acbd-6521f15d680b",
   "metadata": {},
   "outputs": [
    {
     "name": "stdin",
     "output_type": "stream",
     "text": [
      "enter value seperated by comma: 1,2,2,3,3,3\n"
     ]
    },
    {
     "name": "stdout",
     "output_type": "stream",
     "text": [
      "['1', '2', '2', '3', '3', '3']\n",
      "[1, 2, 2, 3, 3, 3]\n",
      "0\n",
      "1\n",
      "2\n",
      "3\n",
      "4\n",
      "5\n",
      "count: 3\n"
     ]
    }
   ],
   "source": [
    "#7) given a list of number with all of it's element sorted in asceding order,determine and print the quantity of distinct element in it\n",
    "#distinct= count the total number of element if the element is repeated then count it ones\n",
    "x=input(\"enter value seperated by comma:\").split(\",\")\n",
    "print(x)\n",
    "a=[]\n",
    "for i in x:\n",
    "    a.append(int(i))\n",
    "a.sort()\n",
    "print(a)\n",
    "count=0\n",
    "for j in range(len(a)):\n",
    "    print(j)\n",
    "    if(a[j-1]!=a[j]):\n",
    "        count=count+1  #1,2,3\n",
    "print(\"count:\",count)"
   ]
  },
  {
   "cell_type": "code",
   "execution_count": 42,
   "id": "1090120c-7cff-41e4-a7da-5897266d0588",
   "metadata": {},
   "outputs": [
    {
     "name": "stdin",
     "output_type": "stream",
     "text": [
      "enter value seperated by comma: 1,2,3,4,5,6,7\n"
     ]
    },
    {
     "name": "stdout",
     "output_type": "stream",
     "text": [
      "['1', '2', '3', '4', '5', '6', '7']\n",
      "[1, 2, 3, 4, 5, 6, 7]\n",
      "[1, 3, 2, 5, 4, 7, 6]\n"
     ]
    }
   ],
   "source": [
    "# 8) give a lilst od numbers ,swap idjecent item in pair (A[0] with A[1],A[2] with A[3],etc.) .Print the resulting list .\n",
    "#If a list has an odd number of element, leave the last element in place.\n",
    "x=input(\"enter value seperated by comma:\").split(\",\")\n",
    "print(x)\n",
    "a=[]\n",
    "for i in x:\n",
    "    a.append(int(i))\n",
    "print(a)\n",
    "for j in range(len(a)):\n",
    "    if j%2!=0:\n",
    "        a[j],a[j+1]=a[j+1],a[j]\n",
    "print(a)"
   ]
  },
  {
   "cell_type": "code",
   "execution_count": 7,
   "id": "ac0f7eb3-1458-4992-b10d-d87dce44f100",
   "metadata": {},
   "outputs": [
    {
     "name": "stdin",
     "output_type": "stream",
     "text": [
      "enter value seperated by comma: 4,5,3,2,1\n"
     ]
    },
    {
     "name": "stdout",
     "output_type": "stream",
     "text": [
      "['4', '5', '3', '2', '1']\n",
      "[4, 5, 3, 2, 1]\n",
      "[4, 5, 3, 2, 1]\n"
     ]
    },
    {
     "ename": "IndexError",
     "evalue": "list assignment index out of range",
     "output_type": "error",
     "traceback": [
      "\u001b[1;31m---------------------------------------------------------------------------\u001b[0m",
      "\u001b[1;31mIndexError\u001b[0m                                Traceback (most recent call last)",
      "Cell \u001b[1;32mIn[7], line 11\u001b[0m\n\u001b[0;32m      9\u001b[0m c\u001b[38;5;241m=\u001b[39m\u001b[38;5;28mmax\u001b[39m(a)\n\u001b[0;32m     10\u001b[0m \u001b[38;5;28mprint\u001b[39m(a)\n\u001b[1;32m---> 11\u001b[0m a[\u001b[38;5;28mmax\u001b[39m(a)]\u001b[38;5;241m=\u001b[39mb\n\u001b[0;32m     12\u001b[0m a[\u001b[38;5;28mmin\u001b[39m(a)]\u001b[38;5;241m=\u001b[39mc\n\u001b[0;32m     13\u001b[0m \u001b[38;5;28mprint\u001b[39m(a[\u001b[38;5;28mmax\u001b[39m(a)])\n",
      "\u001b[1;31mIndexError\u001b[0m: list assignment index out of range"
     ]
    }
   ],
   "source": [
    "# 9)  given a list of unique numbers,swap the minimul and maximal element of this list . Print the resulting list\n",
    "x=input(\"enter value seperated by comma:\").split(\",\")\n",
    "print(x)\n",
    "a=[]\n",
    "for i in x:\n",
    "    a.append(int(i))\n",
    "print(a)\n",
    "#b=min(a)\n",
    "#c=max(a)\n",
    "#print(a)\n",
    "a[max(a)]=b\n",
    "a[min(a)]=c\n",
    "print(a[max(a)])\n",
    "print(a[min(a)])\n",
    "print(a)"
   ]
  },
  {
   "cell_type": "code",
   "execution_count": 20,
   "id": "16528112-fe0d-4807-becc-6e6292a3aef6",
   "metadata": {},
   "outputs": [
    {
     "name": "stdin",
     "output_type": "stream",
     "text": [
      "enter value seperated by comma: 1,2,2,3,3,3\n"
     ]
    },
    {
     "name": "stdout",
     "output_type": "stream",
     "text": [
      "['1', '2', '2', '3', '3', '3']\n",
      "[1, 2, 2, 3, 3, 3]\n",
      "count: 3\n"
     ]
    }
   ],
   "source": [
    "#10) given a list of number , count how many element pair have the same value (are eqaul) .\n",
    "#any two element that are equal to each other should be counted exctly ones\n",
    "x=input(\"enter value seperated by comma:\").split(\",\")\n",
    "print(x)\n",
    "a=[]\n",
    "for i in x:\n",
    "    a.append(int(i))\n",
    "a.sort()\n",
    "print(a)\n",
    "count=0\n",
    "for j in range(len(a)):\n",
    "    if(a[j-1]!=a[j]):\n",
    "        count=count+1  #1,2,3\n",
    "print(\"count:\",count)"
   ]
  },
  {
   "cell_type": "code",
   "execution_count": 15,
   "id": "9498ad82-56d8-464f-9cff-1e79e3cfae7a",
   "metadata": {},
   "outputs": [
    {
     "name": "stdout",
     "output_type": "stream",
     "text": [
      "1\n"
     ]
    },
    {
     "ename": "TypeError",
     "evalue": "'int' object is not callable",
     "output_type": "error",
     "traceback": [
      "\u001b[1;31m---------------------------------------------------------------------------\u001b[0m",
      "\u001b[1;31mTypeError\u001b[0m                                 Traceback (most recent call last)",
      "Cell \u001b[1;32mIn[15], line 6\u001b[0m\n\u001b[0;32m      4\u001b[0m \u001b[38;5;28;01mfor\u001b[39;00m i \u001b[38;5;129;01min\u001b[39;00m x:\n\u001b[0;32m      5\u001b[0m     \u001b[38;5;28mprint\u001b[39m(x\u001b[38;5;241m.\u001b[39mcount(i))\n\u001b[1;32m----> 6\u001b[0m     \u001b[38;5;28;01mif\u001b[39;00m count(i)\u001b[38;5;241m==\u001b[39m\u001b[38;5;241m1\u001b[39m:\n\u001b[0;32m      7\u001b[0m         \u001b[38;5;28mprint\u001b[39m(i)\n",
      "\u001b[1;31mTypeError\u001b[0m: 'int' object is not callable"
     ]
    }
   ],
   "source": [
    "#11)given a list of numbers , find and print the element that appear in the list only once.\n",
    "#The element must be printed in the order in which they occur in the original list\n",
    "x=[1,2,3,4,2,3,4]\n",
    "for i in"
   ]
  },
  {
   "cell_type": "code",
   "execution_count": 17,
   "id": "8265ef9f-c8e0-49be-a23e-e7351237aac4",
   "metadata": {},
   "outputs": [
    {
     "name": "stdout",
     "output_type": "stream",
     "text": [
      "The list is not empty\n"
     ]
    }
   ],
   "source": [
    "#12) Write a python program to check a list is empty or not.\n",
    "x=[1]\n",
    "if not x:\n",
    "    print(\"The list is emty\")\n",
    "else:\n",
    "    print(\"The list is not empty\")"
   ]
  },
  {
   "cell_type": "code",
   "execution_count": 18,
   "id": "1ec5c804-2ff5-4327-aa78-242c3e4a87d7",
   "metadata": {},
   "outputs": [
    {
     "name": "stdout",
     "output_type": "stream",
     "text": [
      "[20, 2, 30, 4, 40, 50]\n",
      "[20, 2, 30, 4, 40, 50]\n"
     ]
    }
   ],
   "source": [
    "#13) write a python program to cole or copy a list \n",
    "x=[20,2,30,4,40,50]\n",
    "y=x\n",
    "print(x)\n",
    "print(y)"
   ]
  },
  {
   "cell_type": "code",
   "execution_count": 25,
   "id": "cd6d6520-cdb8-48a6-9248-665dd1698f4f",
   "metadata": {},
   "outputs": [
    {
     "name": "stdout",
     "output_type": "stream",
     "text": [
      "['insiya', 'Maaz', 'sayal', 'chandra']\n",
      "None\n",
      "None\n",
      "['insiya', 'chandra']\n"
     ]
    }
   ],
   "source": [
    "#14)write a python program to find the list of words that are longer than n from a given list of words\n",
    "l1=[\"insiya\",\"Maaz\",\"sayal\",\"chandra\"]\n",
    "print(l1)\n",
    "l2=[]\n",
    "n=6\n",
    "for i in l1:\n",
    "    if len(i)>=n:\n",
    "        print(l2.append(i))\n",
    "print(l2)"
   ]
  },
  {
   "cell_type": "code",
   "execution_count": 33,
   "id": "02eb8f9b-6ea8-4374-8965-8636697531a4",
   "metadata": {},
   "outputs": [
    {
     "name": "stdout",
     "output_type": "stream",
     "text": [
      "True\n"
     ]
    }
   ],
   "source": [
    "#15) write a python program that takes two lists and retrns True if they have at least one common member\n",
    "l1=[1,2,3,4,5]\n",
    "l2=[2,6,7,8,9,10]\n",
    "for i in l1:\n",
    "    for j in l2:\n",
    "        if(i==j):\n",
    "            print(\"True\")"
   ]
  },
  {
   "cell_type": "code",
   "execution_count": null,
   "id": "3575700a-c2c9-4345-9c2e-c505489ade2a",
   "metadata": {},
   "outputs": [],
   "source": [
    "#16) write a python program "
   ]
  },
  {
   "cell_type": "code",
   "execution_count": null,
   "id": "4d5078de-1a09-4b71-a61c-34a14c11760f",
   "metadata": {},
   "outputs": [],
   "source": [
    "#17) WAP to generate a 3*4*6 3d array whose each element is * "
   ]
  },
  {
   "cell_type": "code",
   "execution_count": 9,
   "id": "f6909adf-47cc-410c-9e74-3d41825043be",
   "metadata": {},
   "outputs": [
    {
     "name": "stdout",
     "output_type": "stream",
     "text": [
      "[2, 4, 20, 30, 40, 67]\n",
      "second maximum is:40, second minimum is :4\n"
     ]
    }
   ],
   "source": [
    "#20)\n",
    "x=[20,2,30,4,67,40]\n",
    "x.sort()\n",
    "print(x)\n",
    "print(f\"second maximum is:{x[-2]}, second minimum is :{x[1]}\")"
   ]
  },
  {
   "cell_type": "code",
   "execution_count": 10,
   "id": "3b1363f7-d9f8-44f3-b8dd-2b4f82610dba",
   "metadata": {},
   "outputs": [
    {
     "name": "stdout",
     "output_type": "stream",
     "text": [
      "['Red', 'Green', 'White', 'BLack', 'Pink', 'Yellow']\n",
      "['Green', 'White', 'BLack']\n"
     ]
    }
   ],
   "source": [
    "#16)\n",
    "x=[\"Red\",\"Green\",\"White\",\"BLack\",\"Pink\",\"Yellow\"]\n",
    "print(x)\n",
    "x=x[1:4]\n",
    "print(x)"
   ]
  },
  {
   "cell_type": "code",
   "execution_count": null,
   "id": "fa5c8eec-f522-47d8-94d0-7a4955ad5ca3",
   "metadata": {},
   "outputs": [],
   "source": []
  },
  {
   "cell_type": "code",
   "execution_count": null,
   "id": "d761bd82-9fc3-470e-96d4-1bc55fbcae20",
   "metadata": {},
   "outputs": [],
   "source": []
  },
  {
   "cell_type": "code",
   "execution_count": null,
   "id": "c6d61bb7-18ba-456a-9f31-bf936ca40473",
   "metadata": {},
   "outputs": [],
   "source": []
  },
  {
   "cell_type": "code",
   "execution_count": null,
   "id": "9215336f-f259-45c1-878e-d38c66792156",
   "metadata": {},
   "outputs": [],
   "source": []
  },
  {
   "cell_type": "code",
   "execution_count": null,
   "id": "5506c142-e457-41ff-8cc2-2aef00ded63d",
   "metadata": {},
   "outputs": [],
   "source": []
  },
  {
   "cell_type": "code",
   "execution_count": null,
   "id": "cf9da313-c55a-423e-ba3f-43c6ab772b23",
   "metadata": {},
   "outputs": [],
   "source": []
  },
  {
   "cell_type": "code",
   "execution_count": null,
   "id": "8f31222b-968b-4bd0-9354-97a1fbc230b0",
   "metadata": {},
   "outputs": [],
   "source": []
  }
 ],
 "metadata": {
  "kernelspec": {
   "display_name": "Python 3 (ipykernel)",
   "language": "python",
   "name": "python3"
  },
  "language_info": {
   "codemirror_mode": {
    "name": "ipython",
    "version": 3
   },
   "file_extension": ".py",
   "mimetype": "text/x-python",
   "name": "python",
   "nbconvert_exporter": "python",
   "pygments_lexer": "ipython3",
   "version": "3.11.7"
  }
 },
 "nbformat": 4,
 "nbformat_minor": 5
}
